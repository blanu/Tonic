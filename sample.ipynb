{
 "cells": [
  {
   "metadata": {},
   "cell_type": "markdown",
   "source": [
    "# This is a sample Jupyter Notebook\n",
    "\n",
    "Below is an example of a code cell. \n",
    "Put your cursor into the cell and press Shift+Enter to execute it and select the next one, or click 'Run Cell' button.\n",
    "\n",
    "Press Double Shift to search everywhere for classes, files, tool windows, actions, and settings.\n",
    "\n",
    "To learn more about Jupyter Notebooks in PyCharm, see [help](https://www.jetbrains.com/help/pycharm/ipython-notebook-support.html).\n",
    "For an overview of PyCharm, go to Help -> Learn IDE features or refer to [our documentation](https://www.jetbrains.com/help/pycharm/getting-started.html)."
   ],
   "id": "8a77807f92f26ee"
  },
  {
   "metadata": {
    "ExecuteTime": {
     "end_time": "2024-11-15T18:50:57.052638Z",
     "start_time": "2024-11-15T18:50:56.140435Z"
    }
   },
   "cell_type": "code",
   "source": [
    "import numpy as np\n",
    "import wave\n",
    "\n",
    "from test import frequency\n",
    "\n",
    "\n",
    "def generate_sine_wave(frequency, sample_rate=44100):\n",
    "    \"\"\"\n",
    "    Generate a single full cycle of a sine wave at a given frequency.\n",
    "\n",
    "    Args:\n",
    "        frequency (float): Frequency of the sine wave in Hz.\n",
    "        sample_rate (int): Sampling rate in Hz (default is 44100 Hz).\n",
    "\n",
    "    Returns:\n",
    "        numpy.ndarray: Array containing the samples of the sine wave.\n",
    "    \"\"\"\n",
    "    # Calculate the number of samples for one cycle\n",
    "    samples_per_cycle = int(sample_rate / frequency)\n",
    "\n",
    "    # Generate time values for one full cycle\n",
    "    t = np.linspace(0, 1 / frequency, samples_per_cycle, endpoint=False)\n",
    "\n",
    "    # Generate the sine wave\n",
    "    sine_wave = np.sin(2 * np.pi * frequency * t)\n",
    "    return sine_wave\n",
    "\n",
    "def save_wave_file(filename, wave_data, sample_rate=44100):\n",
    "    \"\"\"\n",
    "    Save a numpy array as a wave file.\n",
    "\n",
    "    Args:\n",
    "        filename (str): Output filename.\n",
    "        wave_data (numpy.ndarray): Waveform data to save.\n",
    "        sample_rate (int): Sampling rate in Hz (default is 44100 Hz).\n",
    "    \"\"\"\n",
    "\n",
    "    # Write to a wave file\n",
    "    with wave.open(filename, 'w') as wav_file:\n",
    "        wav_file.setnchannels(1)  # Mono\n",
    "        wav_file.setsampwidth(2)  # 16-bit\n",
    "        wav_file.setframerate(sample_rate)\n",
    "        for data in wave_data:\n",
    "            # Convert waveform data to 16-bit PCM format\n",
    "            converted = (data * 32767).astype(np.int16)\n",
    "            wav_file.writeframes(converted.tobytes())\n",
    "\n",
    "def generate_random_bits(length):\n",
    "    \"\"\"\n",
    "    Generate an array of random bits (0 or 1).\n",
    "\n",
    "    Args:\n",
    "        length (int): The length of the array.\n",
    "\n",
    "    Returns:\n",
    "        numpy.ndarray: Array of random bits.\n",
    "    \"\"\"\n",
    "    return np.random.randint(0, 2, length, dtype=np.uint8)\n",
    "\n",
    "# Example usage\n",
    "base = 440.0  # Frequency of the sine wave in Hz (e.g., A4)\n",
    "tone = 1.0\n",
    "copies = 10\n",
    "output_file = 'sine_wave_cycle.wav'\n",
    "\n",
    "messageSize = 256 * 8 # in bits\n",
    "message = generate_random_bits(messageSize)\n",
    "\n",
    "results = [generate_sine_wave(base * tone)]\n",
    "\n",
    "for bit in message:\n",
    "    if bit == 1:\n",
    "        tone = tone * 3.0\n",
    "    else:\n",
    "        tone = tone * 5.0\n",
    "\n",
    "    while tone > 2.0:\n",
    "        tone = tone / 2.0\n",
    "\n",
    "    # Generate the sine wave\n",
    "    for i in range(copies):\n",
    "        sine_wave = generate_sine_wave(frequency * tone)\n",
    "        results = results + [sine_wave]\n",
    "\n",
    "# Save the sine wave as a wave file\n",
    "save_wave_file(output_file, results)\n",
    "print(f\"Generated audio file: {output_file}\")\n"
   ],
   "id": "fbc121e30a2defb3",
   "outputs": [
    {
     "name": "stdout",
     "output_type": "stream",
     "text": [
      "Generated audio file: sine_wave_cycle.wav\n"
     ]
    }
   ],
   "execution_count": 13
  },
  {
   "metadata": {},
   "cell_type": "code",
   "outputs": [],
   "execution_count": null,
   "source": "",
   "id": "44410c189d0d543c"
  }
 ],
 "metadata": {
  "kernelspec": {
   "display_name": "Python 3",
   "language": "python",
   "name": "python3"
  },
  "language_info": {
   "codemirror_mode": {
    "name": "ipython",
    "version": 2
   },
   "file_extension": ".py",
   "mimetype": "text/x-python",
   "name": "python",
   "nbconvert_exporter": "python",
   "pygments_lexer": "ipython2",
   "version": "2.7.6"
  }
 },
 "nbformat": 4,
 "nbformat_minor": 5
}
